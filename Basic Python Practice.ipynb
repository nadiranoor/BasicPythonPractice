{
  "nbformat": 4,
  "nbformat_minor": 0,
  "metadata": {
    "colab": {
      "name": "HW1_Noor_Nadira.ipynb",
      "provenance": [],
      "collapsed_sections": []
    },
    "kernelspec": {
      "name": "python3",
      "display_name": "Python 3"
    }
  },
  "cells": [
    {
      "cell_type": "markdown",
      "metadata": {
        "id": "hm8RAKinXsIP"
      },
      "source": [
        "## **Homework 1**\n",
        "\n",
        "### Create a copy of the notebook to start answering the questions. Name your notebook in the format HW1_lastname_firstname.ipynb to facilitate the grading process. \n",
        "\n",
        "### Answer all the questions, test your code to ensure there are no errors and the results are as expected. Once you have answered all the questions, save the final copy, then go to File-> click on Download.ipynb. Once the local copy has been downloaded, submit your file on Blackboard under the corresponding assignment section. Also provide us a link to your notebook during submission. \n",
        "\n",
        "### **The due date of this homework is 02/05/2021 (Friday).**\n",
        "\n",
        "### Please ensure you follow all the steps mentioned in the homework.\n",
        "\n",
        "### All the questions have a sample input and output to help you understand the question. Please note that your programs will be tested for other sets of inputs and outputs along with the sample provided. So test your code for other inputs.\n",
        "\n",
        "### You can submit your solutions any number of times until the deadline.\n"
      ]
    },
    {
      "cell_type": "markdown",
      "metadata": {
        "id": "uacFrEaZfcfq"
      },
      "source": [
        "##### Q1. Write a program that prompts the user to enter a password then prints the length of the password.\n",
        "\n",
        "```\n",
        "Enter your password: hello\n",
        "Your password is 5 long.\n",
        "```\n",
        "\n",
        "\n"
      ]
    },
    {
      "cell_type": "code",
      "metadata": {
        "id": "avPyES14ftCt",
        "colab": {
          "base_uri": "https://localhost:8080/"
        },
        "outputId": "22440cad-7b94-4995-cb38-f4f62b1686d1"
      },
      "source": [
        "# ask the user to input a password of their choice\n",
        "password = input(\"Enter your password: \")\n",
        "\n",
        "# use len to take the length of the password\n",
        "print(\"Your password is \" + str(len(password)) + \" long.\")"
      ],
      "execution_count": null,
      "outputs": [
        {
          "output_type": "stream",
          "text": [
            "Enter your password: hello\n",
            "Your password is 5 long.\n"
          ],
          "name": "stdout"
        }
      ]
    },
    {
      "cell_type": "markdown",
      "metadata": {
        "id": "behD0j_Of2TW"
      },
      "source": [
        "##### Q2. Write a program that prompts the user to enter their full name then prints the number of characters in their name (do not count spaces).\n",
        "```\n",
        "What is your name? Amulya Katti\n",
        "Amulya Katti your name has 11 characters.\n",
        "```"
      ]
    },
    {
      "cell_type": "code",
      "metadata": {
        "id": "XSdIRjwlhSlu"
      },
      "source": [
        "# ask the user to input their name\n",
        "name = input(\"What is your name? \")\n",
        "\n",
        "# take the length of the name and subtract the number of spaces they put in their name, if they put spaces\n",
        "print(name + \" your name has \" + str(len(name)-name.count(\" \")) + \" characters.\")"
      ],
      "execution_count": null,
      "outputs": []
    },
    {
      "cell_type": "markdown",
      "metadata": {
        "id": "5KHOWF6FhVHV"
      },
      "source": [
        "##### Q3. Write a program that prompts the user to enter a month (as a number), then prints the name of the month and the number of days in that month. Ensure that the user inputs a valid month and handle any error cases.\n",
        "\n",
        "```\n",
        "Enter the month number: 9\n",
        "September has 30 days\n",
        "```"
      ]
    },
    {
      "cell_type": "code",
      "metadata": {
        "id": "KhS-SAEThyTG",
        "colab": {
          "base_uri": "https://localhost:8080/"
        },
        "outputId": "e14e02d5-63f1-4ef7-eae0-3c0429036ffe"
      },
      "source": [
        "# ask the user to input a number for the month they are referring to \n",
        "monthInput = input(\"Enter the month number: \")\n",
        "\n",
        "# create a list of the months\n",
        "monthsList = [\"January\", \"February\", \"March\", \"April\", \"May\", \"June\", \"July\", \"August\", \"September\", \"October\", \"November\", \"December\"]\n",
        "\n",
        "# if it is a month that has 31 days \n",
        "if monthInput == \"1\" or monthInput == \"3\" or monthInput == \"5\" or monthInput == \"7\" or monthInput == \"8\" or monthInput == \"10\" or monthInput == \"12\":\n",
        "  days = \"31\"\n",
        "  # pull the month name from the list that we originally created\n",
        "  month = monthsList[int(monthInput)-1]\n",
        "  print(month + \" has \" + days + \" days\")\n",
        "\n",
        "# if it is a month that has 28/29 days\n",
        "elif monthInput == \"2\":\n",
        "  days = \"28/29\"\n",
        "  month = monthsList[int(monthInput)-1]\n",
        "  print(month + \" has \" + days + \" days\")\n",
        "\n",
        "# if it is a month that has 30 days\n",
        "elif monthInput == \"4\" or monthInput == \"6\" or monthInput == \"9\" or monthInput == \"11\":\n",
        "  days = \"30\"\n",
        "  month = monthsList[int(monthInput)-1]\n",
        "  print(month + \" has \" + days + \" days\")\n",
        "\n",
        "# if the user does not input a valid input (number from 1 to 12) display an error message\n",
        "else:\n",
        "  print(\"Error!\")\n"
      ],
      "execution_count": null,
      "outputs": [
        {
          "output_type": "stream",
          "text": [
            "Enter the month number: 12\n",
            "December has 31 days\n"
          ],
          "name": "stdout"
        }
      ]
    },
    {
      "cell_type": "markdown",
      "metadata": {
        "id": "O7lnAdGlh6Xa"
      },
      "source": [
        "##### Q4. Write a program that prompts the user to enter a loan amount, annual interest rate, and number of years  for a car loan. Then calculate and print the monthly payment amount.\n",
        "\n",
        "Note:\n",
        "```\n",
        "PMT= [PV*i*((1+i)^n)]/[((1+i)^n)-1]\n",
        "```\n",
        "PMT is the monthly payment\n",
        "\n",
        "PV is the loan amount\n",
        "\n",
        "i is the interest rate per month in decimal form (interest rate percentage divided by 12)\n",
        "\n",
        "n is the number of months (term of the loan in months)\n",
        "\n",
        "```\n",
        "Loan Amount: 30000.00\n",
        "Annual Interest Rate: 4.00\n",
        "Years: 5\n",
        "Your monthly payment is: $552.50\n",
        "```"
      ]
    },
    {
      "cell_type": "code",
      "metadata": {
        "id": "p4B5JH5GiTs9",
        "colab": {
          "base_uri": "https://localhost:8080/"
        },
        "outputId": "14536f94-9bc1-431b-a5c5-f6603cdedecf"
      },
      "source": [
        "# ask the user for the loan ammountm interest rate, and years of the loan they wish to pull\n",
        "PV = float(input(\"Loan Amount: \"))\n",
        "interest = float(input(\"Annual Interest Rate: \"))\n",
        "# do the calculations to make sure the interest rate is converted to a percentage and divided by 12 months\n",
        "i = interest/100/12\n",
        "years = float(input(\"Years: \"))\n",
        "# do the calculations to make sure that years are converted to months\n",
        "n = years*12\n",
        "\n",
        "# plug into formula\n",
        "payment = (PV*i*((1+i)**n))/(((1+i)**n)-1)\n",
        "\n",
        "# round payment to two decimal places to ensure that the monthly payment is displayed a dollar value\n",
        "roundedPayment = round(payment, 2)\n",
        "\n",
        "print(\"Your monthly payment is: $\" + str(roundedPayment))"
      ],
      "execution_count": null,
      "outputs": [
        {
          "output_type": "stream",
          "text": [
            "Loan Amount: 30000\n",
            "Annual Interest Rate: 4\n",
            "Years: 5\n",
            "Your monthly payment is: $552.5\n"
          ],
          "name": "stdout"
        }
      ]
    },
    {
      "cell_type": "markdown",
      "metadata": {
        "id": "SjiolJKgiWV-"
      },
      "source": [
        "##### Q5. Write a program to that prompts the user to enter a string. Then check whether or not the string is a palindrome.\n",
        "\n",
        "```\n",
        "Enter a string: Madam\n",
        "Madam, is a palindrome!\n",
        "```"
      ]
    },
    {
      "cell_type": "code",
      "metadata": {
        "id": "F5_M934Ri0es",
        "colab": {
          "base_uri": "https://localhost:8080/"
        },
        "outputId": "14e33c99-a09e-4aea-92ea-dc077bb03d94"
      },
      "source": [
        "userInput = input(\"Enter a string: \")\n",
        "\n",
        "# lower case\n",
        "phrase = userInput.lower()\n",
        "\n",
        "# get rid of the spaces\n",
        "phrase = phrase.replace(\" \", \"\")\n",
        "\n",
        "# convert to a list\n",
        "phraseList = list(phrase)\n",
        "\n",
        "# reverse the list\n",
        "phraseList.reverse()\n",
        "\n",
        "# convert back to a string\n",
        "# want our delimiter to equal the empty string\n",
        "delimiter = \"\"\n",
        "reversePhrase = delimiter.join(phraseList)\n",
        "\n",
        "# check if phrase and reverse are the same\n",
        "if phrase == reversePhrase:\n",
        "    print(userInput + \", is a palindrome!\")\n",
        "else:\n",
        "    print(userInput + \", is not a palindrome.\")"
      ],
      "execution_count": null,
      "outputs": [
        {
          "output_type": "stream",
          "text": [
            "Enter a string: racecar\n",
            "racecar, is a palindrome!\n"
          ],
          "name": "stdout"
        }
      ]
    },
    {
      "cell_type": "markdown",
      "metadata": {
        "id": "BLBD6n9vkJEu"
      },
      "source": [
        "##### Q6. Write a program to compute and print all possible combinations of change for \\$1. Denominations to be considered – quarter, dime, nickel, penny.\n",
        "\n",
        "Hint: Use nested loops (loops within loops for the various denominations of coins)\n",
        "\n",
        "```\n",
        "Change for $1:\n",
        "0 quarters, 0 dimes, 0 nickels, 100 pennies\n",
        "…\n",
        "4 quarters, 0 dimes, 0 nickels, 0 pennies\n",
        "```"
      ]
    },
    {
      "cell_type": "code",
      "metadata": {
        "id": "kAQsTjwDkZZ5",
        "colab": {
          "base_uri": "https://localhost:8080/"
        },
        "outputId": "6cdbf3b4-616d-4801-9ec6-bc2bac817b00"
      },
      "source": [
        "print(\"Change for $1: \")\n",
        "# use for loops to go through the various denominations of coins\n",
        "for quarter in range(0,5): \n",
        "  for dime in range(0,11): \n",
        "    for nickel in range(0,21): \n",
        "      for penny in range(0,101): \n",
        "        # make sure that the value does not exceed $1\n",
        "        if(25*quarter + 10*dime + 5*nickel + penny==100):\n",
        "          print(quarter,\"quarters, \",dime,\"dimes, \",nickel,\"nickels, \",penny,\"pennies\" )"
      ],
      "execution_count": null,
      "outputs": [
        {
          "output_type": "stream",
          "text": [
            "Change for $1: \n",
            "0 quarters,  0 dimes,  0 nickels,  100 pennies\n",
            "0 quarters,  0 dimes,  1 nickels,  95 pennies\n",
            "0 quarters,  0 dimes,  2 nickels,  90 pennies\n",
            "0 quarters,  0 dimes,  3 nickels,  85 pennies\n",
            "0 quarters,  0 dimes,  4 nickels,  80 pennies\n",
            "0 quarters,  0 dimes,  5 nickels,  75 pennies\n",
            "0 quarters,  0 dimes,  6 nickels,  70 pennies\n",
            "0 quarters,  0 dimes,  7 nickels,  65 pennies\n",
            "0 quarters,  0 dimes,  8 nickels,  60 pennies\n",
            "0 quarters,  0 dimes,  9 nickels,  55 pennies\n",
            "0 quarters,  0 dimes,  10 nickels,  50 pennies\n",
            "0 quarters,  0 dimes,  11 nickels,  45 pennies\n",
            "0 quarters,  0 dimes,  12 nickels,  40 pennies\n",
            "0 quarters,  0 dimes,  13 nickels,  35 pennies\n",
            "0 quarters,  0 dimes,  14 nickels,  30 pennies\n",
            "0 quarters,  0 dimes,  15 nickels,  25 pennies\n",
            "0 quarters,  0 dimes,  16 nickels,  20 pennies\n",
            "0 quarters,  0 dimes,  17 nickels,  15 pennies\n",
            "0 quarters,  0 dimes,  18 nickels,  10 pennies\n",
            "0 quarters,  0 dimes,  19 nickels,  5 pennies\n",
            "0 quarters,  0 dimes,  20 nickels,  0 pennies\n",
            "0 quarters,  1 dimes,  0 nickels,  90 pennies\n",
            "0 quarters,  1 dimes,  1 nickels,  85 pennies\n",
            "0 quarters,  1 dimes,  2 nickels,  80 pennies\n",
            "0 quarters,  1 dimes,  3 nickels,  75 pennies\n",
            "0 quarters,  1 dimes,  4 nickels,  70 pennies\n",
            "0 quarters,  1 dimes,  5 nickels,  65 pennies\n",
            "0 quarters,  1 dimes,  6 nickels,  60 pennies\n",
            "0 quarters,  1 dimes,  7 nickels,  55 pennies\n",
            "0 quarters,  1 dimes,  8 nickels,  50 pennies\n",
            "0 quarters,  1 dimes,  9 nickels,  45 pennies\n",
            "0 quarters,  1 dimes,  10 nickels,  40 pennies\n",
            "0 quarters,  1 dimes,  11 nickels,  35 pennies\n",
            "0 quarters,  1 dimes,  12 nickels,  30 pennies\n",
            "0 quarters,  1 dimes,  13 nickels,  25 pennies\n",
            "0 quarters,  1 dimes,  14 nickels,  20 pennies\n",
            "0 quarters,  1 dimes,  15 nickels,  15 pennies\n",
            "0 quarters,  1 dimes,  16 nickels,  10 pennies\n",
            "0 quarters,  1 dimes,  17 nickels,  5 pennies\n",
            "0 quarters,  1 dimes,  18 nickels,  0 pennies\n",
            "0 quarters,  2 dimes,  0 nickels,  80 pennies\n",
            "0 quarters,  2 dimes,  1 nickels,  75 pennies\n",
            "0 quarters,  2 dimes,  2 nickels,  70 pennies\n",
            "0 quarters,  2 dimes,  3 nickels,  65 pennies\n",
            "0 quarters,  2 dimes,  4 nickels,  60 pennies\n",
            "0 quarters,  2 dimes,  5 nickels,  55 pennies\n",
            "0 quarters,  2 dimes,  6 nickels,  50 pennies\n",
            "0 quarters,  2 dimes,  7 nickels,  45 pennies\n",
            "0 quarters,  2 dimes,  8 nickels,  40 pennies\n",
            "0 quarters,  2 dimes,  9 nickels,  35 pennies\n",
            "0 quarters,  2 dimes,  10 nickels,  30 pennies\n",
            "0 quarters,  2 dimes,  11 nickels,  25 pennies\n",
            "0 quarters,  2 dimes,  12 nickels,  20 pennies\n",
            "0 quarters,  2 dimes,  13 nickels,  15 pennies\n",
            "0 quarters,  2 dimes,  14 nickels,  10 pennies\n",
            "0 quarters,  2 dimes,  15 nickels,  5 pennies\n",
            "0 quarters,  2 dimes,  16 nickels,  0 pennies\n",
            "0 quarters,  3 dimes,  0 nickels,  70 pennies\n",
            "0 quarters,  3 dimes,  1 nickels,  65 pennies\n",
            "0 quarters,  3 dimes,  2 nickels,  60 pennies\n",
            "0 quarters,  3 dimes,  3 nickels,  55 pennies\n",
            "0 quarters,  3 dimes,  4 nickels,  50 pennies\n",
            "0 quarters,  3 dimes,  5 nickels,  45 pennies\n",
            "0 quarters,  3 dimes,  6 nickels,  40 pennies\n",
            "0 quarters,  3 dimes,  7 nickels,  35 pennies\n",
            "0 quarters,  3 dimes,  8 nickels,  30 pennies\n",
            "0 quarters,  3 dimes,  9 nickels,  25 pennies\n",
            "0 quarters,  3 dimes,  10 nickels,  20 pennies\n",
            "0 quarters,  3 dimes,  11 nickels,  15 pennies\n",
            "0 quarters,  3 dimes,  12 nickels,  10 pennies\n",
            "0 quarters,  3 dimes,  13 nickels,  5 pennies\n",
            "0 quarters,  3 dimes,  14 nickels,  0 pennies\n",
            "0 quarters,  4 dimes,  0 nickels,  60 pennies\n",
            "0 quarters,  4 dimes,  1 nickels,  55 pennies\n",
            "0 quarters,  4 dimes,  2 nickels,  50 pennies\n",
            "0 quarters,  4 dimes,  3 nickels,  45 pennies\n",
            "0 quarters,  4 dimes,  4 nickels,  40 pennies\n",
            "0 quarters,  4 dimes,  5 nickels,  35 pennies\n",
            "0 quarters,  4 dimes,  6 nickels,  30 pennies\n",
            "0 quarters,  4 dimes,  7 nickels,  25 pennies\n",
            "0 quarters,  4 dimes,  8 nickels,  20 pennies\n",
            "0 quarters,  4 dimes,  9 nickels,  15 pennies\n",
            "0 quarters,  4 dimes,  10 nickels,  10 pennies\n",
            "0 quarters,  4 dimes,  11 nickels,  5 pennies\n",
            "0 quarters,  4 dimes,  12 nickels,  0 pennies\n",
            "0 quarters,  5 dimes,  0 nickels,  50 pennies\n",
            "0 quarters,  5 dimes,  1 nickels,  45 pennies\n",
            "0 quarters,  5 dimes,  2 nickels,  40 pennies\n",
            "0 quarters,  5 dimes,  3 nickels,  35 pennies\n",
            "0 quarters,  5 dimes,  4 nickels,  30 pennies\n",
            "0 quarters,  5 dimes,  5 nickels,  25 pennies\n",
            "0 quarters,  5 dimes,  6 nickels,  20 pennies\n",
            "0 quarters,  5 dimes,  7 nickels,  15 pennies\n",
            "0 quarters,  5 dimes,  8 nickels,  10 pennies\n",
            "0 quarters,  5 dimes,  9 nickels,  5 pennies\n",
            "0 quarters,  5 dimes,  10 nickels,  0 pennies\n",
            "0 quarters,  6 dimes,  0 nickels,  40 pennies\n",
            "0 quarters,  6 dimes,  1 nickels,  35 pennies\n",
            "0 quarters,  6 dimes,  2 nickels,  30 pennies\n",
            "0 quarters,  6 dimes,  3 nickels,  25 pennies\n",
            "0 quarters,  6 dimes,  4 nickels,  20 pennies\n",
            "0 quarters,  6 dimes,  5 nickels,  15 pennies\n",
            "0 quarters,  6 dimes,  6 nickels,  10 pennies\n",
            "0 quarters,  6 dimes,  7 nickels,  5 pennies\n",
            "0 quarters,  6 dimes,  8 nickels,  0 pennies\n",
            "0 quarters,  7 dimes,  0 nickels,  30 pennies\n",
            "0 quarters,  7 dimes,  1 nickels,  25 pennies\n",
            "0 quarters,  7 dimes,  2 nickels,  20 pennies\n",
            "0 quarters,  7 dimes,  3 nickels,  15 pennies\n",
            "0 quarters,  7 dimes,  4 nickels,  10 pennies\n",
            "0 quarters,  7 dimes,  5 nickels,  5 pennies\n",
            "0 quarters,  7 dimes,  6 nickels,  0 pennies\n",
            "0 quarters,  8 dimes,  0 nickels,  20 pennies\n",
            "0 quarters,  8 dimes,  1 nickels,  15 pennies\n",
            "0 quarters,  8 dimes,  2 nickels,  10 pennies\n",
            "0 quarters,  8 dimes,  3 nickels,  5 pennies\n",
            "0 quarters,  8 dimes,  4 nickels,  0 pennies\n",
            "0 quarters,  9 dimes,  0 nickels,  10 pennies\n",
            "0 quarters,  9 dimes,  1 nickels,  5 pennies\n",
            "0 quarters,  9 dimes,  2 nickels,  0 pennies\n",
            "0 quarters,  10 dimes,  0 nickels,  0 pennies\n",
            "1 quarters,  0 dimes,  0 nickels,  75 pennies\n",
            "1 quarters,  0 dimes,  1 nickels,  70 pennies\n",
            "1 quarters,  0 dimes,  2 nickels,  65 pennies\n",
            "1 quarters,  0 dimes,  3 nickels,  60 pennies\n",
            "1 quarters,  0 dimes,  4 nickels,  55 pennies\n",
            "1 quarters,  0 dimes,  5 nickels,  50 pennies\n",
            "1 quarters,  0 dimes,  6 nickels,  45 pennies\n",
            "1 quarters,  0 dimes,  7 nickels,  40 pennies\n",
            "1 quarters,  0 dimes,  8 nickels,  35 pennies\n",
            "1 quarters,  0 dimes,  9 nickels,  30 pennies\n",
            "1 quarters,  0 dimes,  10 nickels,  25 pennies\n",
            "1 quarters,  0 dimes,  11 nickels,  20 pennies\n",
            "1 quarters,  0 dimes,  12 nickels,  15 pennies\n",
            "1 quarters,  0 dimes,  13 nickels,  10 pennies\n",
            "1 quarters,  0 dimes,  14 nickels,  5 pennies\n",
            "1 quarters,  0 dimes,  15 nickels,  0 pennies\n",
            "1 quarters,  1 dimes,  0 nickels,  65 pennies\n",
            "1 quarters,  1 dimes,  1 nickels,  60 pennies\n",
            "1 quarters,  1 dimes,  2 nickels,  55 pennies\n",
            "1 quarters,  1 dimes,  3 nickels,  50 pennies\n",
            "1 quarters,  1 dimes,  4 nickels,  45 pennies\n",
            "1 quarters,  1 dimes,  5 nickels,  40 pennies\n",
            "1 quarters,  1 dimes,  6 nickels,  35 pennies\n",
            "1 quarters,  1 dimes,  7 nickels,  30 pennies\n",
            "1 quarters,  1 dimes,  8 nickels,  25 pennies\n",
            "1 quarters,  1 dimes,  9 nickels,  20 pennies\n",
            "1 quarters,  1 dimes,  10 nickels,  15 pennies\n",
            "1 quarters,  1 dimes,  11 nickels,  10 pennies\n",
            "1 quarters,  1 dimes,  12 nickels,  5 pennies\n",
            "1 quarters,  1 dimes,  13 nickels,  0 pennies\n",
            "1 quarters,  2 dimes,  0 nickels,  55 pennies\n",
            "1 quarters,  2 dimes,  1 nickels,  50 pennies\n",
            "1 quarters,  2 dimes,  2 nickels,  45 pennies\n",
            "1 quarters,  2 dimes,  3 nickels,  40 pennies\n",
            "1 quarters,  2 dimes,  4 nickels,  35 pennies\n",
            "1 quarters,  2 dimes,  5 nickels,  30 pennies\n",
            "1 quarters,  2 dimes,  6 nickels,  25 pennies\n",
            "1 quarters,  2 dimes,  7 nickels,  20 pennies\n",
            "1 quarters,  2 dimes,  8 nickels,  15 pennies\n",
            "1 quarters,  2 dimes,  9 nickels,  10 pennies\n",
            "1 quarters,  2 dimes,  10 nickels,  5 pennies\n",
            "1 quarters,  2 dimes,  11 nickels,  0 pennies\n",
            "1 quarters,  3 dimes,  0 nickels,  45 pennies\n",
            "1 quarters,  3 dimes,  1 nickels,  40 pennies\n",
            "1 quarters,  3 dimes,  2 nickels,  35 pennies\n",
            "1 quarters,  3 dimes,  3 nickels,  30 pennies\n",
            "1 quarters,  3 dimes,  4 nickels,  25 pennies\n",
            "1 quarters,  3 dimes,  5 nickels,  20 pennies\n",
            "1 quarters,  3 dimes,  6 nickels,  15 pennies\n",
            "1 quarters,  3 dimes,  7 nickels,  10 pennies\n",
            "1 quarters,  3 dimes,  8 nickels,  5 pennies\n",
            "1 quarters,  3 dimes,  9 nickels,  0 pennies\n",
            "1 quarters,  4 dimes,  0 nickels,  35 pennies\n",
            "1 quarters,  4 dimes,  1 nickels,  30 pennies\n",
            "1 quarters,  4 dimes,  2 nickels,  25 pennies\n",
            "1 quarters,  4 dimes,  3 nickels,  20 pennies\n",
            "1 quarters,  4 dimes,  4 nickels,  15 pennies\n",
            "1 quarters,  4 dimes,  5 nickels,  10 pennies\n",
            "1 quarters,  4 dimes,  6 nickels,  5 pennies\n",
            "1 quarters,  4 dimes,  7 nickels,  0 pennies\n",
            "1 quarters,  5 dimes,  0 nickels,  25 pennies\n",
            "1 quarters,  5 dimes,  1 nickels,  20 pennies\n",
            "1 quarters,  5 dimes,  2 nickels,  15 pennies\n",
            "1 quarters,  5 dimes,  3 nickels,  10 pennies\n",
            "1 quarters,  5 dimes,  4 nickels,  5 pennies\n",
            "1 quarters,  5 dimes,  5 nickels,  0 pennies\n",
            "1 quarters,  6 dimes,  0 nickels,  15 pennies\n",
            "1 quarters,  6 dimes,  1 nickels,  10 pennies\n",
            "1 quarters,  6 dimes,  2 nickels,  5 pennies\n",
            "1 quarters,  6 dimes,  3 nickels,  0 pennies\n",
            "1 quarters,  7 dimes,  0 nickels,  5 pennies\n",
            "1 quarters,  7 dimes,  1 nickels,  0 pennies\n",
            "2 quarters,  0 dimes,  0 nickels,  50 pennies\n",
            "2 quarters,  0 dimes,  1 nickels,  45 pennies\n",
            "2 quarters,  0 dimes,  2 nickels,  40 pennies\n",
            "2 quarters,  0 dimes,  3 nickels,  35 pennies\n",
            "2 quarters,  0 dimes,  4 nickels,  30 pennies\n",
            "2 quarters,  0 dimes,  5 nickels,  25 pennies\n",
            "2 quarters,  0 dimes,  6 nickels,  20 pennies\n",
            "2 quarters,  0 dimes,  7 nickels,  15 pennies\n",
            "2 quarters,  0 dimes,  8 nickels,  10 pennies\n",
            "2 quarters,  0 dimes,  9 nickels,  5 pennies\n",
            "2 quarters,  0 dimes,  10 nickels,  0 pennies\n",
            "2 quarters,  1 dimes,  0 nickels,  40 pennies\n",
            "2 quarters,  1 dimes,  1 nickels,  35 pennies\n",
            "2 quarters,  1 dimes,  2 nickels,  30 pennies\n",
            "2 quarters,  1 dimes,  3 nickels,  25 pennies\n",
            "2 quarters,  1 dimes,  4 nickels,  20 pennies\n",
            "2 quarters,  1 dimes,  5 nickels,  15 pennies\n",
            "2 quarters,  1 dimes,  6 nickels,  10 pennies\n",
            "2 quarters,  1 dimes,  7 nickels,  5 pennies\n",
            "2 quarters,  1 dimes,  8 nickels,  0 pennies\n",
            "2 quarters,  2 dimes,  0 nickels,  30 pennies\n",
            "2 quarters,  2 dimes,  1 nickels,  25 pennies\n",
            "2 quarters,  2 dimes,  2 nickels,  20 pennies\n",
            "2 quarters,  2 dimes,  3 nickels,  15 pennies\n",
            "2 quarters,  2 dimes,  4 nickels,  10 pennies\n",
            "2 quarters,  2 dimes,  5 nickels,  5 pennies\n",
            "2 quarters,  2 dimes,  6 nickels,  0 pennies\n",
            "2 quarters,  3 dimes,  0 nickels,  20 pennies\n",
            "2 quarters,  3 dimes,  1 nickels,  15 pennies\n",
            "2 quarters,  3 dimes,  2 nickels,  10 pennies\n",
            "2 quarters,  3 dimes,  3 nickels,  5 pennies\n",
            "2 quarters,  3 dimes,  4 nickels,  0 pennies\n",
            "2 quarters,  4 dimes,  0 nickels,  10 pennies\n",
            "2 quarters,  4 dimes,  1 nickels,  5 pennies\n",
            "2 quarters,  4 dimes,  2 nickels,  0 pennies\n",
            "2 quarters,  5 dimes,  0 nickels,  0 pennies\n",
            "3 quarters,  0 dimes,  0 nickels,  25 pennies\n",
            "3 quarters,  0 dimes,  1 nickels,  20 pennies\n",
            "3 quarters,  0 dimes,  2 nickels,  15 pennies\n",
            "3 quarters,  0 dimes,  3 nickels,  10 pennies\n",
            "3 quarters,  0 dimes,  4 nickels,  5 pennies\n",
            "3 quarters,  0 dimes,  5 nickels,  0 pennies\n",
            "3 quarters,  1 dimes,  0 nickels,  15 pennies\n",
            "3 quarters,  1 dimes,  1 nickels,  10 pennies\n",
            "3 quarters,  1 dimes,  2 nickels,  5 pennies\n",
            "3 quarters,  1 dimes,  3 nickels,  0 pennies\n",
            "3 quarters,  2 dimes,  0 nickels,  5 pennies\n",
            "3 quarters,  2 dimes,  1 nickels,  0 pennies\n",
            "4 quarters,  0 dimes,  0 nickels,  0 pennies\n"
          ],
          "name": "stdout"
        }
      ]
    },
    {
      "cell_type": "markdown",
      "metadata": {
        "id": "rUPDjYiIkbgs"
      },
      "source": [
        "##### Q7. Ask the user to enter two positive integers between 1 and 100. Read those integers. Then output a multiplication table of the first number times the second number. \n",
        "\n",
        "Note: You have to ensure the entered numbers are between 1 and 100 only.\n",
        "\n",
        "```\n",
        "Please enter an integer: 5\n",
        "Please enter another integer: 20\n",
        "5 x 1 = 5\n",
        "5 x 2 = 10\n",
        "5 x 3 = 15\n",
        "…\n",
        "5 x 20 = 100\n",
        "```"
      ]
    },
    {
      "cell_type": "code",
      "metadata": {
        "id": "Qg0Orv1klHzA",
        "colab": {
          "base_uri": "https://localhost:8080/"
        },
        "outputId": "31d584a0-410d-4444-92dd-e8afd68b2252"
      },
      "source": [
        "# ask the user for 2 numbers\n",
        "num1 = input(\"Please enter an integer: \")\n",
        "num2 = input(\"Please enter another integer: \")\n",
        "\n",
        "# make sure that the user inputs numbers\n",
        "if num1.isdigit() and num2.isdigit():\n",
        "  # make sure that the user inputs numbers between 1 and 100\n",
        "  if int(num1) in range(1,101) and int(num2) in range(1,101):\n",
        "    # for loop to do the calculations, make sure numbers are ints when you need to multiply\n",
        "    for i in range(1,int(num2)+1):\n",
        "      print(num1,\"x\",i,\"=\",int(num1)*i)\n",
        "  else: \n",
        "    print(\"Error! Please enter numbers between 1 and 100.\")\n",
        "else:\n",
        "  print(\"Error! Please enter a valid number!\")\n"
      ],
      "execution_count": null,
      "outputs": [
        {
          "output_type": "stream",
          "text": [
            "Please enter an integer: 101\n",
            "Please enter another integer: 2\n",
            "Error! Please enter a number between 1 and 100.\n"
          ],
          "name": "stdout"
        }
      ]
    },
    {
      "cell_type": "markdown",
      "metadata": {
        "id": "SbnbPUPTlLD9"
      },
      "source": [
        "##### Q8. Write a program to ask the user to enter a password. Then check to see if it is a valid password based on these requirements -\n",
        "\n",
        "Must be at least 8 characters long\n",
        "\n",
        "Must contain both uppercase and lowercase letters\n",
        "\n",
        "Must contain at least one number between 0-9\n",
        "\n",
        "Must contain a special character -!,@,#,$\n",
        "\n",
        "If the password is not valid, ask the user to re-enter. This should continue until the user enters a valid password. After a valid password is entered, print Access Granted!\n",
        "\n",
        "```\n",
        "Please enter a password. Follow these requirements - \n",
        "a. Must be at least 8 characters long\n",
        "b. Must contain both uppercase and lowercase letters\n",
        "c. Must contain at least one number between 0-9\n",
        "d. Must contain a special character -!,@,#,$\n",
        "Password: HelloWorld1\n",
        "Invalid password. Try again!\n",
        "Password: Hello@World1\n",
        "Access Granted!\n",
        "```\n"
      ]
    },
    {
      "cell_type": "code",
      "metadata": {
        "id": "OXmZ177Rl-RV",
        "colab": {
          "base_uri": "https://localhost:8080/"
        },
        "outputId": "2687ddc1-69be-40dd-fb31-db30fe7054d1"
      },
      "source": [
        "# create a variable that will be later updated to break the while loop when all requirements have been met \n",
        "stop = 1\n",
        "\n",
        "# create a list of special characters that we will loop through later\n",
        "specialChar =['!', '@', '#', '$']\n",
        "\n",
        "# print instructions\n",
        "print(\"Please enter a password. Follow these requirements - \\na. Must be at least 8 characters long\\nb. Must contain both uppercase and lowercase letters\\nc. Must contain at least one number between 0-9\\nd. Must contain a special character -!,@,#,$\")\n",
        "\n",
        "while stop == 1: \n",
        "  # ask for user input\n",
        "  password = input(\"Enter a valid password : \")\n",
        "  # check length of password\n",
        "  if(len(password)<8):\n",
        "    print(\"Invalid Password. Try again.\")\n",
        "    print(\"The password must be at least 8 characters long.\")\n",
        "  # check is the password has an uppercase letter using a for loop\n",
        "  elif not any(element.isupper() for element in password): \n",
        "    print(\"Invalid Password. Try again.\")\n",
        "    print(\"The password must contain at least one uppercase letter.\")\n",
        "  # check if the password has a lowercase letter using a for loop\n",
        "  elif not any(element.islower() for element in password): \n",
        "    print(\"Invalid Password. Try again.\")\n",
        "    print(\"The password must contain at least one lowercase letter.\")\n",
        "  # check if the password contains at least one number\n",
        "  elif not any(element.isdigit() for element in password): \n",
        "    print(\"Invalid Password. Try again.\")\n",
        "    print(\"The password must contain at least one digit.\")\n",
        "  # use the list created earlier to check if the password uses a special character\n",
        "  elif not any(element in specialChar for element in password): \n",
        "    print(\"Invalid Password. Try again.\")\n",
        "    print(\"The password must contain at least one special character.\")\n",
        "  else: \n",
        "    print(\"Access granted!\")\n",
        "    # end the while loop when the passwoed meets all requirements \n",
        "    stop = 0"
      ],
      "execution_count": null,
      "outputs": [
        {
          "output_type": "stream",
          "text": [
            "Please enter a password. Follow these requirements - \n",
            "a. Must be at least 8 characters long\n",
            "b. Must contain both uppercase and lowercase letters\n",
            "c. Must contain at least one number between 0-9\n",
            "d. Must contain a special character -!,@,#,$\n",
            "Enter a valid password : Bubbleuimc.0\n",
            "Invalid Password. Try again.\n",
            "The password must contain at least one special character.\n",
            "Enter a valid password : Bubbleyum!00\n",
            "Access granted!\n"
          ],
          "name": "stdout"
        }
      ]
    },
    {
      "cell_type": "markdown",
      "metadata": {
        "id": "-0sdutTDnTKA"
      },
      "source": [
        "##### Q9. Given the score sheet of participants in a competition, you are required to find the runner-up score. You are given scores in a list. Find the score of the runner-up.\n",
        "\n",
        "```\n",
        "list1 - [2, 3, 6, 6, 5]\n",
        "runner_up - 5\n",
        "\n",
        "list2 - [1, 7, 5, 3, 10, 4, 5, 5, 6, 11]\n",
        "runner_up - 10\n",
        "```"
      ]
    },
    {
      "cell_type": "code",
      "metadata": {
        "id": "12YP9OaqpGRK",
        "colab": {
          "base_uri": "https://localhost:8080/"
        },
        "outputId": "45353afd-a718-46b4-987f-6a3b6b8373a2"
      },
      "source": [
        "# use given list\n",
        "list1 = [2, 3, 6, 6, 5]\n",
        "print(\"list1 - \" + str(list1))\n",
        "\n",
        "# find the maximum value of the current list and remove it\n",
        "winner = max(list1)\n",
        "list1.remove(winner)\n",
        "runner_up = max(list1)\n",
        "\n",
        "# to ensure that we find the unique runner up, make sure to account for when there are ties in the maximum value\n",
        "while runner_up == winner:\n",
        "  list1.remove(runner_up)\n",
        "  runner_up = max(list1)\n",
        "print(\"runner_up - \" + str(runner_up))\n",
        "\n",
        "list2 = [1, 7, 5, 3, 10, 4, 5, 5, 6, 11]\n",
        "print(\"\\nlist2 - \" + str(list2))\n",
        "winner = max(list2)\n",
        "list2.remove(winner)\n",
        "runner_up = max(list2)\n",
        "while runner_up == winner:\n",
        "  list2.remove(runner_up)\n",
        "  runner_up = max(list2)\n",
        "print(\"runner_up - \" + str(runner_up))\n",
        "\n",
        "\n"
      ],
      "execution_count": null,
      "outputs": [
        {
          "output_type": "stream",
          "text": [
            "list1 - [2, 3, 6, 6, 5]\n",
            "runner_up - 5\n",
            "\n",
            "list2 - [1, 7, 5, 3, 10, 4, 5, 5, 6, 11]\n",
            "runner_up - 10\n"
          ],
          "name": "stdout"
        }
      ]
    }
  ]
}